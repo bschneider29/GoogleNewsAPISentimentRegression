{
 "cells": [
  {
   "cell_type": "code",
   "execution_count": null,
   "metadata": {},
   "outputs": [],
   "source": [
    "from GoogleNews import GoogleNews\r\n",
    "import numpy as np \r\n",
    "import pandas as pd \r\n",
    "import matplotlib.pyplot as plt\r\n",
    "#from nltk.corpus import stopwords\r\n",
    "#from nltk.stem import PorterStemmer\r\n",
    "#from nltk.tokenize import word_tokenize\r\n",
    "from nltk.sentiment import SentimentIntensityAnalyzer"
   ]
  },
  {
   "cell_type": "code",
   "execution_count": 7,
   "metadata": {},
   "outputs": [],
   "source": [
    "\r\n",
    "googlenews = GoogleNews()\r\n",
    "\r\n",
    "googlenews = GoogleNews(lang='en')\r\n",
    "\r\n",
    "googlenews = GoogleNews(start='06/20/2021',end='07/20/2021') #date range to change data size\r\n",
    "googlenews = GoogleNews(encode='utf-8')\r\n",
    "\r\n",
    "googlenews.get_news('') #Enter keyword\r\n"
   ]
  },
  {
   "cell_type": "code",
   "execution_count": 18,
   "metadata": {},
   "outputs": [],
   "source": [
    "#Data Exploration\r\n",
    "#googlenews.results() #dict of results\r\n",
    "#googlenews.get_texts() #gets titles\r\n",
    "#googlenews.get_links() #gets links to articles\r\n",
    "#googlenews.total_count() #count of hits"
   ]
  },
  {
   "cell_type": "code",
   "execution_count": 8,
   "metadata": {},
   "outputs": [],
   "source": [
    "sia = SentimentIntensityAnalyzer()\r\n",
    "\r\n",
    "NewsDataFrame=pd.DataFrame(columns=['Title','Compound'])\r\n",
    "\r\n",
    "\r\n",
    "for x in range(len(googlenews.get_texts())):\r\n",
    "    NewsDataFrame=NewsDataFrame.append(pd.DataFrame({'Title': googlenews.get_texts()[x], 'Compound': sia.polarity_scores(googlenews.get_texts()[x])['compound']}, index=[0]),ignore_index=True)"
   ]
  },
  {
   "cell_type": "code",
   "execution_count": 9,
   "metadata": {},
   "outputs": [],
   "source": [
    "##Asumption of scale based on data exploration\r\n",
    "conditionals = [\r\n",
    "    (NewsDataFrame['Compound'] < -.3),\r\n",
    "    (NewsDataFrame['Compound']  > -.3) & (NewsDataFrame['Compound']  < .3),\r\n",
    "    (NewsDataFrame['Compound']  > .3)\r\n",
    "]\r\n",
    "\r\n",
    "responses =[-1,0,1]\r\n",
    "\r\n",
    "NewsDataFrame['Compound_Norm'] = np.select(conditionals, responses)"
   ]
  },
  {
   "cell_type": "code",
   "execution_count": 10,
   "metadata": {},
   "outputs": [],
   "source": [
    "from sklearn.model_selection import train_test_split\r\n",
    "Title_set = NewsDataFrame['Title'].values\r\n",
    "Compound_set = NewsDataFrame['Compound_Norm'].values\r\n",
    "Title_set_train, Title_set_test, y_train, y_test = train_test_split(Title_set, Compound_set, test_size=0.2, random_state=10000)"
   ]
  },
  {
   "cell_type": "code",
   "execution_count": null,
   "metadata": {},
   "outputs": [],
   "source": [
    "from sklearn.linear_model import LogisticRegression\r\n",
    "from sklearn.feature_extraction.text import CountVectorizer\r\n",
    "from sklearn.metrics import confusion_matrix,classification_report\r\n",
    "vectorizer = CountVectorizer(stop_words='english')\r\n",
    "#vectorizer = TfidfVectorizer()\r\n",
    "\r\n",
    "X_train = vectorizer.fit_transform(Title_set_train)\r\n",
    "X_test = vectorizer.transform(Title_set_test)\r\n",
    "classifier = LogisticRegression(solver='liblinear',  C=10.0, random_state=0, max_iter=10000)\r\n",
    "classifier.fit(X_train, y_train)\r\n",
    "\r\n",
    "accuracy = classifier.score(X_test, y_test)\r\n",
    "print('Accuracy: ', accuracy)\r\n",
    "print(classifier.fit(X_train, y_train))\r\n",
    "#print(classifier.predict_proba(X_train))\r\n",
    "#print(confusion_matrix(y_train, classifier.predict(X_train)))\r\n",
    "print(classification_report(y_train, classifier.predict(X_train))) #F1 Scores\r\n",
    "print(confusion_matrix(y_train, classifier.predict(X_train))) #Confusion Matrix"
   ]
  },
  {
   "cell_type": "code",
   "execution_count": null,
   "metadata": {},
   "outputs": [],
   "source": []
  },
  {
   "cell_type": "code",
   "execution_count": null,
   "metadata": {},
   "outputs": [],
   "source": []
  }
 ],
 "metadata": {
  "interpreter": {
   "hash": "73a2b958dffe64c57682536a9117df795234162942ff7172d207ad081ff4055c"
  },
  "kernelspec": {
   "display_name": "Python 3.7.3 64-bit",
   "name": "python3"
  },
  "language_info": {
   "codemirror_mode": {
    "name": "ipython",
    "version": 3
   },
   "file_extension": ".py",
   "mimetype": "text/x-python",
   "name": "python",
   "nbconvert_exporter": "python",
   "pygments_lexer": "ipython3",
   "version": "3.7.3"
  },
  "orig_nbformat": 4
 },
 "nbformat": 4,
 "nbformat_minor": 2
}